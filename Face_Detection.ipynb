{
 "cells": [
  {
   "cell_type": "markdown",
   "metadata": {},
   "source": [
    "#  FACE AND EYE DETECTION"
   ]
  },
  {
   "cell_type": "code",
   "execution_count": 1,
   "metadata": {},
   "outputs": [],
   "source": [
    "import cv2 as cv\n",
    "import numpy as np \n",
    "import math\n",
    "import matplotlib.pyplot as plt"
   ]
  },
  {
   "cell_type": "code",
   "execution_count": 2,
   "metadata": {},
   "outputs": [],
   "source": [
    "face_cascade=cv.CascadeClassifier(\"C:\\\\Users\\\\amit gupta\\\\PycharmProjects\\\\untitled\\\\venv\\\\Lib\\\\site-packages\\\\cv2\\\\data\\\\haarcascade_frontalface_default.xml\")\n",
    "eye_cascade = cv.CascadeClassifier( \"C:\\\\Users\\\\amit gupta\\\\PycharmProjects\\\\untitled\\\\venv\\\\Lib\\\\site-packages\\\\cv2\\\\data\\\\haarcascade_eye.xml\")"
   ]
  },
  {
   "cell_type": "code",
   "execution_count": null,
   "metadata": {},
   "outputs": [],
   "source": [
    "# capture the video\n",
    "cap=cv.VideoCapture(0)\n",
    "while(True):\n",
    "    ret,frame=cap.read()\n",
    "    image_array=frame\n",
    "    gray=cv.cvtColor(image_array,cv.COLOR_BGR2GRAY)\n",
    "    faces=face_cascade.detectMultiScale(gray,1.3,5)\n",
    "    for (x,y,w,h) in faces:\n",
    "        cv.rectangle(image_array,(x,y),(x+w,y+h),(255,0,0),2)  # draw rectangles with height and width\n",
    "        rd_gray=gray[y:y+h,x:x+w]\n",
    "        rd_color = image_array[y:y+h,x:x+w]\n",
    "        eyes = eye_cascade.detectMultiScale(rd_gray,1.3,5)\n",
    "        for (ex,ey,ew,eh) in eyes:\n",
    "            center = (int(ex + 0.5*ew),int(ey+0.5*eh))\n",
    "            radius= int(0.5*(ew))\n",
    "            cv.circle(rd_color,center,radius,(0,0,255),3)\n",
    "    cv.imshow(\"eye detector\",image_array)\n",
    "    # stop the webcam by pressing q\n",
    "    if cv.waitKey(1) & 0xFF ==ord('q') :\n",
    "            break\n",
    "cap.release()\n",
    "cv.destroyAllWindows()"
   ]
  },
  {
   "cell_type": "code",
   "execution_count": null,
   "metadata": {},
   "outputs": [],
   "source": []
  }
 ],
 "metadata": {
  "kernelspec": {
   "display_name": "Python 3",
   "language": "python",
   "name": "python3"
  },
  "language_info": {
   "codemirror_mode": {
    "name": "ipython",
    "version": 3
   },
   "file_extension": ".py",
   "mimetype": "text/x-python",
   "name": "python",
   "nbconvert_exporter": "python",
   "pygments_lexer": "ipython3",
   "version": "3.7.3"
  }
 },
 "nbformat": 4,
 "nbformat_minor": 2
}
